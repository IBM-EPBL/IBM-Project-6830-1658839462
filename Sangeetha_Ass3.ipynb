{
  "nbformat": 4,
  "nbformat_minor": 0,
  "metadata": {
    "colab": {
      "provenance": [],
      "collapsed_sections": [],
      "include_colab_link": true
    },
    "kernelspec": {
      "name": "python3",
      "display_name": "Python 3"
    },
    "language_info": {
      "name": "python"
    }
  },
  "cells": [
    {
      "cell_type": "markdown",
      "metadata": {
        "id": "view-in-github",
        "colab_type": "text"
      },
      "source": [
        "<a href=\"https://colab.research.google.com/github/IBM-EPBL/IBM-Project-6830-1658839462/blob/main/Sangeetha_Ass3.ipynb\" target=\"_parent\"><img src=\"https://colab.research.google.com/assets/colab-badge.svg\" alt=\"Open In Colab\"/></a>"
      ]
    },
    {
      "cell_type": "markdown",
      "source": [
        "# **Build CNN model for classification of Flowers**"
      ],
      "metadata": {
        "id": "EDNMI51n-LIi"
      }
    },
    {
      "cell_type": "markdown",
      "source": [
        "# **2. Image Augmentation**"
      ],
      "metadata": {
        "id": "d18FacMy-ciU"
      }
    },
    {
      "cell_type": "markdown",
      "source": [
        "# **1.Download the dataset**"
      ],
      "metadata": {
        "id": "nvIdxefp-R78"
      }
    },
    {
      "cell_type": "code",
      "source": [
        "\n",
        "\n",
        "import numpy as np\n",
        "import tensorflow as tf\n",
        "from tensorflow.keras import layers\n",
        "from tensorflow.keras.models import Sequential\n",
        "import matplotlib.pyplot as plt\n"
      ],
      "metadata": {
        "id": "50DeddaC-4kZ"
      },
      "execution_count": null,
      "outputs": []
    },
    {
      "cell_type": "code",
      "source": [
        "from tensorflow.keras.preprocessing.image import ImageDataGenerator"
      ],
      "metadata": {
        "id": "j-AKBltz-Xxe"
      },
      "execution_count": null,
      "outputs": []
    },
    {
      "cell_type": "code",
      "source": [
        "train_datagen = ImageDataGenerator(rescale = 1./255, horizontal_flip = True, vertical_flip = True, zoom_range = 0.2)"
      ],
      "metadata": {
        "id": "tWgtX4Y9-fQS"
      },
      "execution_count": null,
      "outputs": []
    },
    {
      "cell_type": "markdown",
      "source": [
        "# **3.Create a model**"
      ],
      "metadata": {
        "id": "x9bsft0D-uuR"
      }
    },
    {
      "cell_type": "code",
      "source": [
        "from tensorflow.keras.models import Sequential\n",
        "from tensorflow.keras.layers import Convolution2D,MaxPooling2D,Flatten,Dense\n",
        "model = Sequential()"
      ],
      "metadata": {
        "id": "8wuW3wLI-yez"
      },
      "execution_count": null,
      "outputs": []
    },
    {
      "cell_type": "code",
      "execution_count": null,
      "metadata": {
        "id": "g0z4xDPi6zh3"
      },
      "outputs": [],
      "source": [
        "#unzip the dataset\n",
        "!unzip Flowers-Dataset.zip "
      ]
    },
    {
      "cell_type": "markdown",
      "source": [
        "# **Add layers (Convolution,MaxPooling,Flatten,Dense-(HiddenLayers),Output)**"
      ],
      "metadata": {
        "id": "pr27p323_gZy"
      }
    },
    {
      "cell_type": "code",
      "source": [
        "model.add(Convolution2D(32, (3,3), activation = \"relu\", input_shape = (64,64,3) ))\n",
        "model.add(MaxPooling2D(pool_size = (2,2)))\n",
        "model.add(Flatten())\n",
        "model.add(Dense(300, activation = \"relu\"))\n",
        "model.add(Dense(150, activation = \"relu\")) #mulitple dense layers\n",
        "model.add(Dense(5, activation = \"softmax\")) #output layer"
      ],
      "metadata": {
        "id": "7Au3vWXp_epc"
      },
      "execution_count": null,
      "outputs": []
    },
    {
      "cell_type": "code",
      "source": [
        "\n",
        "num_classes = len(class_names)\n",
        "\n",
        "model = Sequential([\n",
        "  data_augmentation,\n",
        "  layers.Rescaling(1./255, input_shape=(img_height, img_width, 3)),\n",
        "  layers.Conv2D(16, 3, padding='same', activation='relu'),\n",
        "  layers.MaxPooling2D(),\n",
        "  layers.Conv2D(32, 3, padding='same', activation='relu'),\n",
        "  layers.MaxPooling2D(),\n",
        "  layers.Conv2D(64, 3, padding='same', activation='relu'),\n",
        "  layers.MaxPooling2D(),\n",
        "  layers.Flatten(),\n",
        "  layers.Dense(128, activation='relu'),\n",
        "  layers.Dense(num_classes)\n",
        "])"
      ],
      "metadata": {
        "id": "j6K-d8fQ_ol0"
      },
      "execution_count": null,
      "outputs": []
    },
    {
      "cell_type": "markdown",
      "source": [
        "# **Compile The Model**"
      ],
      "metadata": {
        "id": "eGuAoUVS_tRU"
      }
    },
    {
      "cell_type": "code",
      "source": [
        "\n",
        "model.compile(optimizer='adam',\n",
        "              loss=tf.keras.losses.SparseCategoricalCrossentropy(from_logits=True),\n",
        "              metrics=['accuracy'])\n",
        "epochs=10\n",
        "history = model.fit(\n",
        "  train_ds,\n",
        "  validation_data=val_ds,\n",
        "  epochs=epochs\n",
        ")"
      ],
      "metadata": {
        "id": "EKj3xDQO_xW8"
      },
      "execution_count": null,
      "outputs": []
    },
    {
      "cell_type": "code",
      "source": [
        "\n",
        "\n",
        "acc = history.history['accuracy']\n",
        "val_acc = history.history['val_accuracy']\n",
        "\n",
        "loss = history.history['loss']\n",
        "val_loss = history.history['val_loss']\n",
        "\n",
        "epochs_range = range(epochs)\n",
        "\n",
        "plt.figure(figsize=(8, 8))\n",
        "plt.subplot(1, 2, 1)\n",
        "plt.plot(epochs_range, acc, label='Training Accuracy')\n",
        "plt.plot(epochs_range, val_acc, label='Validation Accuracy')\n",
        "plt.legend(loc='lower right')\n",
        "plt.title('Training and Validation Accuracy')\n",
        "\n",
        "plt.subplot(1, 2, 2)\n",
        "plt.plot(epochs_range, loss, label='Training Loss')\n",
        "plt.plot(epochs_range, val_loss, label='Validation Loss')\n",
        "plt.legend(loc='upper right')\n",
        "plt.title('Training and Validation Loss')\n",
        "plt.show()"
      ],
      "metadata": {
        "id": "fHGmIRRd_11p"
      },
      "execution_count": null,
      "outputs": []
    },
    {
      "cell_type": "markdown",
      "source": [
        "#**Fit The Model** "
      ],
      "metadata": {
        "id": "nrEbdsjw_4wi"
      }
    },
    {
      "cell_type": "code",
      "source": [
        "model.fit(x_train, epochs = 15, steps_per_epoch = len(x_train))"
      ],
      "metadata": {
        "colab": {
          "base_uri": "https://localhost:8080/"
        },
        "id": "oi3kxjS7_7VL",
        "outputId": "2bb733c4-faca-4763-9111-885539427cc1"
      },
      "execution_count": null,
      "outputs": [
        {
          "output_type": "stream",
          "name": "stdout",
          "text": [
            "Epoch 1/15\n",
            "44/44 [==============================] - 31s 684ms/step - loss: 1.7914 - accuracy: 0.3588\n",
            "Epoch 2/15\n",
            "44/44 [==============================] - 29s 648ms/step - loss: 1.1730 - accuracy: 0.5045\n",
            "Epoch 3/15\n",
            "44/44 [==============================] - 29s 650ms/step - loss: 1.0967 - accuracy: 0.5529\n",
            "Epoch 4/15\n",
            "44/44 [==============================] - 29s 648ms/step - loss: 1.0351 - accuracy: 0.5939\n",
            "Epoch 5/15\n",
            "44/44 [==============================] - 29s 645ms/step - loss: 0.9920 - accuracy: 0.6127\n",
            "Epoch 6/15\n",
            "44/44 [==============================] - 30s 677ms/step - loss: 0.9659 - accuracy: 0.6259\n",
            "Epoch 7/15\n",
            "44/44 [==============================] - 29s 648ms/step - loss: 0.9129 - accuracy: 0.6426\n",
            "Epoch 8/15\n",
            "44/44 [==============================] - 29s 647ms/step - loss: 0.9085 - accuracy: 0.6433\n",
            "Epoch 9/15\n",
            "44/44 [==============================] - 32s 717ms/step - loss: 0.8597 - accuracy: 0.6620\n",
            "Epoch 10/15\n",
            "44/44 [==============================] - 30s 674ms/step - loss: 0.8350 - accuracy: 0.6824\n",
            "Epoch 11/15\n",
            "44/44 [==============================] - 29s 648ms/step - loss: 0.8420 - accuracy: 0.6718\n",
            "Epoch 12/15\n",
            "44/44 [==============================] - 29s 650ms/step - loss: 0.7857 - accuracy: 0.7030\n",
            "Epoch 13/15\n",
            "44/44 [==============================] - 29s 649ms/step - loss: 0.7868 - accuracy: 0.7000\n",
            "Epoch 14/15\n",
            "44/44 [==============================] - 29s 650ms/step - loss: 0.7542 - accuracy: 0.7132\n",
            "Epoch 15/15\n",
            "44/44 [==============================] - 30s 676ms/step - loss: 0.7467 - accuracy: 0.7107\n"
          ]
        },
        {
          "output_type": "execute_result",
          "data": {
            "text/plain": [
              "<keras.callbacks.History at 0x7f602ce90090>"
            ]
          },
          "metadata": {},
          "execution_count": 21
        }
      ]
    },
    {
      "cell_type": "markdown",
      "source": [
        "# **Save The Model**"
      ],
      "metadata": {
        "id": "Ye_AXkldAHsR"
      }
    },
    {
      "cell_type": "code",
      "source": [
        "model.save(\"flowers.m5\")#another model to show the accuracy"
      ],
      "metadata": {
        "id": "PScQNfP3ANb5"
      },
      "execution_count": null,
      "outputs": []
    },
    {
      "cell_type": "markdown",
      "source": [
        "# **Test The Model**"
      ],
      "metadata": {
        "id": "CcYNnkOrAR4W"
      }
    },
    {
      "cell_type": "code",
      "source": [
        "from tensorflow.keras.models import load_model\n",
        "from tensorflow.keras.preprocessing import image\n",
        "import numpy as np"
      ],
      "metadata": {
        "id": "XBk_CZrEGx9j"
      },
      "execution_count": null,
      "outputs": []
    },
    {
      "cell_type": "code",
      "source": [
        "model = load_model(\"/content/flowers.h1\")"
      ],
      "metadata": {
        "id": "RMEytAE1AX0g"
      },
      "execution_count": null,
      "outputs": []
    },
    {
      "cell_type": "code",
      "source": [
        "#Testing with a random rose image from Google\n",
        "\n",
        "img = image.load_img(\"/content/rose.gif\", target_size = (64,64) )"
      ],
      "metadata": {
        "id": "-7NOWN5AAcpJ"
      },
      "execution_count": null,
      "outputs": []
    },
    {
      "cell_type": "code",
      "source": [
        "img"
      ],
      "metadata": {
        "colab": {
          "base_uri": "https://localhost:8080/",
          "height": 81
        },
        "id": "jymYvgSbAe5p",
        "outputId": "802b335f-921e-4172-dd0e-9bbd4c5f3009"
      },
      "execution_count": null,
      "outputs": [
        {
          "output_type": "execute_result",
          "data": {
            "text/plain": [
              "<PIL.Image.Image image mode=RGB size=64x64 at 0x7F60292B5150>"
            ],
            "image/png": "[encoded data removed]"
          },
          "metadata": {},
          "execution_count": 26
        }
      ]
    },
    {
      "cell_type": "code",
      "source": [
        "x = image.img_to_array(img)\n",
        "x.ndim"
      ],
      "metadata": {
        "colab": {
          "base_uri": "https://localhost:8080/"
        },
        "id": "UdiTHAMQAgwb",
        "outputId": "2eff879f-f821-49a8-ec6a-b3b98dc77a77"
      },
      "execution_count": null,
      "outputs": [
        {
          "output_type": "execute_result",
          "data": {
            "text/plain": [
              "3"
            ]
          },
          "metadata": {},
          "execution_count": 27
        }
      ]
    },
    {
      "cell_type": "code",
      "source": [
        "x = np.expand_dims(x,axis = 0)\n",
        "x.ndim"
      ],
      "metadata": {
        "colab": {
          "base_uri": "https://localhost:8080/"
        },
        "id": "8AIofCueAioq",
        "outputId": "b86e6691-d0a4-440f-8656-6269a28872f2"
      },
      "execution_count": null,
      "outputs": [
        {
          "output_type": "execute_result",
          "data": {
            "text/plain": [
              "4"
            ]
          },
          "metadata": {},
          "execution_count": 28
        }
      ]
    },
    {
      "cell_type": "code",
      "source": [
        "pred = model.predict(x)\n",
        "pred"
      ],
      "metadata": {
        "colab": {
          "base_uri": "https://localhost:8080/"
        },
        "id": "lNc8JLEWAlKK",
        "outputId": "33fccbde-d6c1-4660-ae51-9155630568f7"
      },
      "execution_count": null,
      "outputs": [
        {
          "output_type": "execute_result",
          "data": {
            "text/plain": [
              "array([[0., 0., 1., 0., 0.]], dtype=float32)"
            ]
          },
          "metadata": {},
          "execution_count": 29
        }
      ]
    },
    {
      "cell_type": "code",
      "source": [
        "labels = ['daisy','dandelion','roses','sunflowers','tulips']"
      ],
      "metadata": {
        "id": "5VeIrSt3An8U"
      },
      "execution_count": null,
      "outputs": []
    },
    {
      "cell_type": "code",
      "source": [
        "labels[np.argmax(pred)]"
      ],
      "metadata": {
        "colab": {
          "base_uri": "https://localhost:8080/",
          "height": 35
        },
        "id": "64GEsB0lAqOi",
        "outputId": "02ab66a9-565e-46fd-cd9c-de7cde270c5c"
      },
      "execution_count": null,
      "outputs": [
        {
          "output_type": "execute_result",
          "data": {
            "text/plain": [
              "'roses'"
            ],
            "application/vnd.google.colaboratory.intrinsic+json": {
              "type": "string"
            }
          },
          "metadata": {},
          "execution_count": 31
        }
      ]
    }
  ]
}