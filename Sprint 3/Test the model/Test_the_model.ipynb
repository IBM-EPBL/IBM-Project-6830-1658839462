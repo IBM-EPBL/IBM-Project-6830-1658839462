{
  "nbformat": 4,
  "nbformat_minor": 0,
  "metadata": {
    "colab": {
      "provenance": []
    },
    "kernelspec": {
      "name": "python3",
      "display_name": "Python 3"
    },
    "language_info": {
      "name": "python"
    }
  },
  "cells": [
    {
      "cell_type": "code",
      "execution_count": null,
      "metadata": {
        "id": "Yadhm49p2lsy"
      },
      "outputs": [],
      "source": [
        "#Importing Libaries\n",
        "\n",
        "from tensorflow import keras\n",
        "from keras.models import load_model\n",
        "from keras.preprocessing import image\n",
        "from google.colab import drive\n",
        "import numpy as np\n",
        "import cv2"
      ]
    },
    {
      "cell_type": "code",
      "source": [
        "drive.mount('/content/gdrive')"
      ],
      "metadata": {
        "colab": {
          "base_uri": "https://localhost:8080/"
        },
        "id": "yMXT-k5l3VQc",
        "outputId": "6627f947-75bf-4a78-ff63-22faad505600"
      },
      "execution_count": null,
      "outputs": [
        {
          "output_type": "stream",
          "name": "stdout",
          "text": [
            "Mounted at /content/gdrive\n"
          ]
        }
      ]
    },
    {
      "cell_type": "code",
      "source": [
        "#loading the model\n",
        "\n",
        "model = load_model(\"/content/drive/MyDrive/IBM/aslpng1.h5\")"
      ],
      "metadata": {
        "id": "LesSIbUN22B1"
      },
      "execution_count": 5,
      "outputs": []
    },
    {
      "cell_type": "code",
      "source": [
        "from skimage.transform import resize\n",
        "def detect(frame):\n",
        "    img = resize(frame, (64, 64, 3))\n",
        "    img = np.expand_dims(img, axis = 0)\n",
        "    if np.max(img) > 1:\n",
        "        img = img/255.0\n",
        "    prediction = model.predict(img)\n",
        "    print(prediction)\n",
        "    return prediction"
      ],
      "metadata": {
        "id": "eqW9aP7TAYzs"
      },
      "execution_count": 6,
      "outputs": []
    },
    {
      "cell_type": "code",
      "source": [
        "frame = cv2.imread(r\"/content/drive/MyDrive/IBM/Datasets/Dataset/training_set/D/1011.png\")\n",
        "data = detect(frame)"
      ],
      "metadata": {
        "colab": {
          "base_uri": "https://localhost:8080/"
        },
        "id": "4oaTL-LUAdDp",
        "outputId": "9e854abd-ca51-4c0a-8516-bfeec92680df"
      },
      "execution_count": 7,
      "outputs": [
        {
          "output_type": "stream",
          "name": "stdout",
          "text": [
            "1/1 [==============================] - 0s 428ms/step\n",
            "[[9.1269165e-08 6.7969074e-07 6.8366861e-11 9.9996257e-01 7.4525508e-07\n",
            "  5.6558258e-07 3.0344079e-08 1.4256367e-08 3.5410001e-05]]\n"
          ]
        }
      ]
    },
    {
      "cell_type": "code",
      "source": [
        "index = ['A','B','C','D','E','F','G','H','I']\n",
        "index[np.argmax(data)]"
      ],
      "metadata": {
        "colab": {
          "base_uri": "https://localhost:8080/",
          "height": 35
        },
        "id": "Dc_pb4yNA317",
        "outputId": "9da5ebbe-9754-4a83-f18e-e0169b5ada58"
      },
      "execution_count": 8,
      "outputs": [
        {
          "output_type": "execute_result",
          "data": {
            "text/plain": [
              "'D'"
            ],
            "application/vnd.google.colaboratory.intrinsic+json": {
              "type": "string"
            }
          },
          "metadata": {},
          "execution_count": 8
        }
      ]
    },
    {
      "cell_type": "markdown",
      "source": [
        "Open CV"
      ],
      "metadata": {
        "id": "Sqzt9iqEBM1x"
      }
    },
    {
      "cell_type": "code",
      "source": [
        "#Importing Library\n",
        "\n",
        "import cv2"
      ],
      "metadata": {
        "id": "z04QAcGpBOwu"
      },
      "execution_count": 9,
      "outputs": []
    },
    {
      "cell_type": "code",
      "source": [
        "img=cv2.imread(r'/content/drive/MyDrive/IBM/Datasets/Dataset/training_set/C/10.png',1)\n"
      ],
      "metadata": {
        "id": "FErZFE0XBUZS"
      },
      "execution_count": 11,
      "outputs": []
    },
    {
      "cell_type": "code",
      "source": [
        "img1=cv2.imread(r'/content/drive/MyDrive/IBM/Datasets/Dataset/training_set/D/10.png',0)"
      ],
      "metadata": {
        "id": "29fqu-veCPVe"
      },
      "execution_count": 12,
      "outputs": []
    },
    {
      "cell_type": "code",
      "source": [
        "print(img.shape)"
      ],
      "metadata": {
        "colab": {
          "base_uri": "https://localhost:8080/"
        },
        "id": "bT-DmLOzCcLL",
        "outputId": "2e4a7f9f-f2b4-4e78-d03e-c0a61697842f"
      },
      "execution_count": 13,
      "outputs": [
        {
          "output_type": "stream",
          "name": "stdout",
          "text": [
            "(64, 64, 3)\n"
          ]
        }
      ]
    },
    {
      "cell_type": "code",
      "source": [
        "#Importing library\n",
        "\n",
        "from google.colab.patches import cv2_imshow"
      ],
      "metadata": {
        "id": "2GpwvqOrCfVV"
      },
      "execution_count": 14,
      "outputs": []
    },
    {
      "cell_type": "code",
      "source": [
        "cv2_imshow(img)\n",
        "cv2.waitKey(0)\n",
        "cv2.destroyAllWindows()"
      ],
      "metadata": {
        "colab": {
          "base_uri": "https://localhost:8080/",
          "height": 81
        },
        "id": "D7wy8d2yCkT-",
        "outputId": "28858c20-8088-463e-96fb-a9b356e63224"
      },
      "execution_count": 15,
      "outputs": [
        {
          "output_type": "display_data",
          "data": {
            "text/plain": [
              "<PIL.Image.Image image mode=RGB size=64x64 at 0x7F0B4947CF90>"
            ],
            "image/png": "[encoded data removed]"
          },
          "metadata": {}
        }
      ]
    },
    {
      "cell_type": "markdown",
      "source": [
        "CNN Video Analysis"
      ],
      "metadata": {
        "id": "EfBKh6awCqq9"
      }
    },
    {
      "cell_type": "code",
      "source": [
        "import cv2\n",
        "import numpy as np\n",
        "from tensorflow.keras.models import load_model\n",
        "from tensorflow.keras.preprocessing import image\n",
        "model=load_model('/content/drive/MyDrive/IBM/aslpng1.h5')\n",
        "video=cv2.VideoCapture(0)\n",
        "index=['A','B','C','D','E','F','G','H','I']\n",
        "if video.isOpened():\n",
        "    current_frame = 0\n",
        "    while 1:\n",
        "      succes,frame=video.read()\n",
        "      cv2.imwrite('image.jpg',frame)\n",
        "      img=image.load_img('image.jpg',target_size=(64,64))\n",
        "      x=image.img_to_array(img)\n",
        "      x=np.expand_dims(x,axis=0)\n",
        "      pred=np.argmax(model.predict(x),axis=1)\n",
        "      y=pred[0]\n",
        "      copy = frame.copy()\n",
        "      cv2.rectangle(copy, (320, 100), (620,400), (255,0,0), 5)\n",
        "      cv2.putText(frame,'The Predicted Alphabet is: '+str(index[y]),(100,100),cv2.FONT_HERSHEY_SIMPLEX,1,(0,0,0),4)\n",
        "      cv2.imshow('image',frame)\n",
        "      if cv2.waitKey(1) & 0xFF == ord('q'):\n",
        "          break\n",
        "video.release()\n",
        "cv2.destroyAllWindows()"
      ],
      "metadata": {
        "id": "gF70Sug9CpBm"
      },
      "execution_count": 17,
      "outputs": []
    }
  ]
}